{
 "metadata": {
  "name": "",
  "signature": "sha256:b176af8707d72cb4907d5e3f4bb2925239a1eef483ff1d01d4594b09e68f3bf9"
 },
 "nbformat": 3,
 "nbformat_minor": 0,
 "worksheets": [
  {
   "cells": [
    {
     "cell_type": "code",
     "collapsed": false,
     "input": [
      "import essentia\n",
      "from scipy import fft\n",
      "from librosa.beat import *\n",
      "import essentia.standard as ess\n",
      "from matplotlib import *\n",
      "from numpy import *\n",
      "def getFFT(audioIn):\n",
      "\treturn scipy.fft(audioIn)\n",
      "def getBPM(audioIn):\n",
      "\treturn librosa.beat.estimate_tempo(onset_envelope,\n",
      "                                        sr=sr,\n",
      "                                        hop_length=hop_length)\n",
      "def getTempo(audioIn):\n",
      "\tavg_bpm, beat_start, confidence, tempo, beat_duration = ess.RhythmExtractor2013(method='multifeature')(audioIn)\n",
      "\treturn (beat_start,avg_bpm,confidence)\n",
      "\n",
      "audioFilePath = \"/Users/patrickryan/Music/iTunes/iTunes Media/Music/Unknown Artist/Unknown Album/bach-toccata-and-fugue.wav\"\n",
      "fs = 44100.0"
     ],
     "language": "python",
     "metadata": {},
     "outputs": [],
     "prompt_number": 11
    },
    {
     "cell_type": "code",
     "collapsed": false,
     "input": [
      "from matplotlib.pyplot import plot\n",
      "%matplotlib inline\n",
      "avg_bpm, beat_start, confidence, tempo, beat_duration = ess.RhythmExtractor2013(method='multifeature')(song)\n",
      "\n"
     ],
     "language": "python",
     "metadata": {},
     "outputs": [
      {
       "metadata": {},
       "output_type": "display_data",
       "png": "[encoded data removed]",
       "text": [
        "<matplotlib.figure.Figure at 0x118fb4110>"
       ]
      }
     ],
     "prompt_number": 12
    },
    {
     "cell_type": "code",
     "collapsed": false,
     "input": [
      "t = arange(len(song))/float(fs)\n",
      "plot(t, song)\n",
      "xlabel('Time (seconds)')\n",
      "for t0 in beat_start:\n",
      "    axvline(t0, color='r')\n"
     ],
     "language": "python",
     "metadata": {},
     "outputs": [
      {
       "metadata": {},
       "output_type": "display_data",
       "png": "[encoded data removed]",
       "text": [
        "<matplotlib.figure.Figure at 0x110d48510>"
       ]
      }
     ],
     "prompt_number": 13
    },
    {
     "cell_type": "code",
     "collapsed": false,
     "input": [
      "plot(t, song)"
     ],
     "language": "python",
     "metadata": {},
     "outputs": []
    }
   ],
   "metadata": {}
  }
 ]
}